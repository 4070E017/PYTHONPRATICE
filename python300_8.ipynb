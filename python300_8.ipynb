{
  "nbformat": 4,
  "nbformat_minor": 0,
  "metadata": {
    "colab": {
      "name": "python300-8.ipynb",
      "version": "0.3.2",
      "provenance": [],
      "include_colab_link": true
    },
    "kernelspec": {
      "name": "python3",
      "display_name": "Python 3"
    }
  },
  "cells": [
    {
      "cell_type": "markdown",
      "metadata": {
        "id": "view-in-github",
        "colab_type": "text"
      },
      "source": [
        "<a href=\"https://colab.research.google.com/github/4070E017/PYTHONPRATICE/blob/master/python300_8.ipynb\" target=\"_parent\"><img src=\"https://colab.research.google.com/assets/colab-badge.svg\" alt=\"Open In Colab\"/></a>"
      ]
    },
    {
      "metadata": {
        "id": "1Q2vBA74_7-x",
        "colab_type": "code",
        "colab": {
          "base_uri": "https://localhost:8080/",
          "height": 85
        },
        "outputId": "17ba9dbc-3c69-4d33-9c6a-9e19771147e8"
      },
      "cell_type": "code",
      "source": [
        "# 我的PYTHON練習(ch1-2.3)\n",
        "# Prompt the user to enter three numbers\n",
        "number1 = eval(input(\"Enter the first number: \"))\n",
        "number2 = eval(input(\"Enter the second number: \"))\n",
        "number3 = eval(input(\"Enter the third number: \"))\n",
        "\n",
        "# Compute average\n",
        "average = (number1 - number2 - number3) / 3\n",
        "\n",
        "# Display result\n",
        "print(\"The average of\", number1, number2, number3, \n",
        "    \"is\", average)\n"
      ],
      "execution_count": 3,
      "outputs": [
        {
          "output_type": "stream",
          "text": [
            "Enter the first number: 1\n",
            "Enter the second number: 2\n",
            "Enter the third number: 3\n",
            "The average of 1 2 3 is -1.3333333333333333\n"
          ],
          "name": "stdout"
        }
      ]
    },
    {
      "metadata": {
        "id": "X3k2p6pOA5zT",
        "colab_type": "text"
      },
      "cell_type": "markdown",
      "source": [
        "chapter 2"
      ]
    }
  ]
}