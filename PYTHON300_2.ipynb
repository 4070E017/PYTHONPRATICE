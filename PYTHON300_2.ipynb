{
  "nbformat": 4,
  "nbformat_minor": 0,
  "metadata": {
    "colab": {
      "name": "PYTHON300-2.ipynb",
      "version": "0.3.2",
      "provenance": [],
      "include_colab_link": true
    },
    "kernelspec": {
      "name": "python3",
      "display_name": "Python 3"
    }
  },
  "cells": [
    {
      "cell_type": "markdown",
      "metadata": {
        "id": "view-in-github",
        "colab_type": "text"
      },
      "source": [
        "<a href=\"https://colab.research.google.com/github/4070E017/PYTHONPRATICE/blob/master/PYTHON300_2.ipynb\" target=\"_parent\"><img src=\"https://colab.research.google.com/assets/colab-badge.svg\" alt=\"Open In Colab\"/></a>"
      ]
    },
    {
      "metadata": {
        "id": "RcdvlMIa7A2_",
        "colab_type": "code",
        "colab": {
          "base_uri": "https://localhost:8080/",
          "height": 68
        },
        "outputId": "33839ada-51c2-43aa-e919-6836684fdded"
      },
      "cell_type": "code",
      "source": [
        "# 我的PYTHON練習(ch1-1.2)\n",
        "# Display three messages\n",
        "print(\"Welcome to Python\")\n",
        "print(\"YES,我完成了\")\n",
        "print(\"Problem Driven\")  "
      ],
      "execution_count": 1,
      "outputs": [
        {
          "output_type": "stream",
          "text": [
            "Welcome to Python\n",
            "YES,我完成了\n",
            "Problem Driven\n"
          ],
          "name": "stdout"
        }
      ]
    }
  ]
}