{
  "nbformat": 4,
  "nbformat_minor": 0,
  "metadata": {
    "colab": {
      "name": "Python300-1.ipynb",
      "version": "0.3.2",
      "provenance": [],
      "include_colab_link": true
    },
    "kernelspec": {
      "name": "python3",
      "display_name": "Python 3"
    }
  },
  "cells": [
    {
      "cell_type": "markdown",
      "metadata": {
        "id": "view-in-github",
        "colab_type": "text"
      },
      "source": [
        "<a href=\"https://colab.research.google.com/github/4070E017/PYTHONPRATICE/blob/master/Python300_1.ipynb\" target=\"_parent\"><img src=\"https://colab.research.google.com/assets/colab-badge.svg\" alt=\"Open In Colab\"/></a>"
      ]
    },
    {
      "metadata": {
        "id": "e4I16wjw1lhx",
        "colab_type": "code",
        "colab": {
          "base_uri": "https://localhost:8080/",
          "height": 51
        },
        "outputId": "0233eea0-a970-4fa1-a389-01768a32807c"
      },
      "cell_type": "code",
      "source": [
        "#我的PYTHON練習(ch1-1.1)\n",
        "# Display two messages\n",
        "print(\"Welcome to Python\")\n",
        "print(\"YES,我完成了\")\n"
      ],
      "execution_count": 19,
      "outputs": [
        {
          "output_type": "stream",
          "text": [
            "Welcome to Python\n",
            "YES,我完成了\n"
          ],
          "name": "stdout"
        }
      ]
    },
    {
      "metadata": {
        "id": "p9wVrkQg132r",
        "colab_type": "text"
      },
      "cell_type": "markdown",
      "source": [
        "Chapter 1"
      ]
    }
  ]
}