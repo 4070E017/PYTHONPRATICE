{
  "nbformat": 4,
  "nbformat_minor": 0,
  "metadata": {
    "colab": {
      "name": "Untitled1.ipynb",
      "version": "0.3.2",
      "provenance": [],
      "include_colab_link": true
    },
    "kernelspec": {
      "name": "python3",
      "display_name": "Python 3"
    }
  },
  "cells": [
    {
      "cell_type": "markdown",
      "metadata": {
        "id": "view-in-github",
        "colab_type": "text"
      },
      "source": [
        "<a href=\"https://colab.research.google.com/github/4070E017/PYTHONPRATICE/blob/master/PYTHON300_14.ipynb\" target=\"_parent\"><img src=\"https://colab.research.google.com/assets/colab-badge.svg\" alt=\"Open In Colab\"/></a>"
      ]
    },
    {
      "metadata": {
        "id": "0Zcrlh7PCbkx",
        "colab_type": "code",
        "colab": {
          "base_uri": "https://localhost:8080/",
          "height": 85
        },
        "outputId": "600d978c-0dfb-4768-b773-62697e5177d1"
      },
      "cell_type": "code",
      "source": [
        "##我的python練習(ch2 2-9)\n",
        "# Enter the first point with two double values\n",
        "x1, y1 = eval(input(\"Enter x1 and y1: \"))\n",
        "\n",
        "# Enter the second point with two double values\n",
        "x2, y2 = eval(input(\"Enter x2 and y2: \"))\n",
        " \n",
        "# Compute the distance\n",
        "distance = ((x1 - x2) * (x1 - x2) + (y1 - y2) * (y1 - y2)) ** 0.5\n",
        "    \n",
        "print(\"The distance between the two points is\", distance) \n",
        "print(\"恩師好,我是學生李勝安\")"
      ],
      "execution_count": 12,
      "outputs": [
        {
          "output_type": "stream",
          "text": [
            "Enter x1 and y1: 1,2\n",
            "Enter x2 and y2: 2,3\n",
            "The distance between the two points is 1.4142135623730951\n",
            "恩師好,我是學生李勝安\n"
          ],
          "name": "stdout"
        }
      ]
    },
    {
      "metadata": {
        "id": "bFa9FKFLFhyg",
        "colab_type": "code",
        "colab": {}
      },
      "cell_type": "code",
      "source": [
        ""
      ],
      "execution_count": 0,
      "outputs": []
    }
  ]
}